{
 "cells": [
  {
   "cell_type": "markdown",
   "metadata": {},
   "source": [
    "1. Generar una red neuronal (sin librerias) que utilice el dataset iris con producto punto, errores y de dos capas."
   ]
  },
  {
   "cell_type": "code",
   "execution_count": 6,
   "metadata": {},
   "outputs": [
    {
     "data": {
      "image/png": "[encoded data removed]",
      "text/plain": [
       "<Figure size 640x480 with 1 Axes>"
      ]
     },
     "metadata": {},
     "output_type": "display_data"
    },
    {
     "name": "stdout",
     "output_type": "stream",
     "text": [
      "Precisión del modelo en el conjunto de prueba: 95.6 %\n"
     ]
    }
   ],
   "source": [
    "import numpy as np\n",
    "import pandas as pd\n",
    "from sklearn.datasets import load_iris\n",
    "from sklearn.model_selection import train_test_split\n",
    "import matplotlib.pyplot as plt\n",
    "\n",
    "# Función de activación sigmoidal y su derivada\n",
    "def sigmoid(x):\n",
    "    clipped_x = np.clip(x, -500, 500)  # Limitar x para evitar desbordamientos\n",
    "    return 1 / (1 + np.exp(-clipped_x))\n",
    "\n",
    "def sigmoid_derivative(x):\n",
    "    return sigmoid(x) * (1 - sigmoid(x))\n",
    "\n",
    "# Normalización de los datos\n",
    "def normalize(X, axis=-1, order=2):\n",
    "    l2 = np.atleast_1d(np.linalg.norm(X, order, axis))\n",
    "    l2[l2 == 0] = 1\n",
    "    return X / np.expand_dims(l2, axis)\n",
    "\n",
    "# Carga del dataset Iris\n",
    "iris = load_iris()\n",
    "X = iris.data\n",
    "y = iris.target\n",
    "\n",
    "# Normalización de los datos\n",
    "X_normalized = normalize(X)\n",
    "\n",
    "# Transformación de las etiquetas a one-hot encoding\n",
    "def to_one_hot(Y):\n",
    "    n_col = np.amax(Y) + 1\n",
    "    binarized = np.zeros((len(Y), n_col))\n",
    "    for i in range(len(Y)):\n",
    "        binarized[i, Y[i]] = 1.\n",
    "    return binarized\n",
    "\n",
    "y_one_hot = to_one_hot(y)\n",
    "\n",
    "# División del dataset en entrenamiento y prueba\n",
    "X_train, X_test, y_train, y_test = train_test_split(X_normalized, y_one_hot, test_size=0.33)\n",
    "\n",
    "# -> Definición de los pesos iniciales para las capas\n",
    "np.random.seed(42)  # Para reproducibilidad\n",
    "w0 = 2 * np.random.random((4, 5)) - 1  # Capa de entrada - 4 entradas, 5 neuronas en la capa oculta\n",
    "w1 = 2 * np.random.random((5, 3)) - 1  # Capa oculta - 5 entradas, 3 salidas\n",
    "\n",
    "# Tasa de aprendizaje\n",
    "learning_rate = 0.1\n",
    "\n",
    "# Almacenamiento de errores para visualización posterior\n",
    "errors = []\n",
    "\n",
    "# Entrenamiento de la red neuronal\n",
    "for i in range(100000):\n",
    "    # Feed forward\n",
    "    # -> Se realiza el producto punto entre las entradas y los pesos de las capas oculta \n",
    "    # y de salida durante el proceso de feedforward:\n",
    "    layer0 = X_train\n",
    "    layer1 = sigmoid(np.dot(layer0, w0))\n",
    "    layer2 = sigmoid(np.dot(layer1, w1))\n",
    "\n",
    "    # Backpropagation usando descenso de gradiente\n",
    "    # -> Se calculan los errores de la red y se realiza el backpropagation para ajustar los pesos\n",
    "    layer2_error = y_train - layer2\n",
    "    layer2_delta = layer2_error * sigmoid_derivative(layer2)\n",
    "    \n",
    "    layer1_error = layer2_delta.dot(w1.T)\n",
    "    layer1_delta = layer1_error * sigmoid_derivative(layer1)\n",
    "    \n",
    "    w1 += layer1.T.dot(layer2_delta) * learning_rate\n",
    "    w0 += layer0.T.dot(layer1_delta) * learning_rate\n",
    "    \n",
    "    error = np.mean(np.abs(layer2_error))\n",
    "    errors.append(error)\n",
    "\n",
    "# Visualización del error durante el entrenamiento\n",
    "plt.plot(errors)\n",
    "plt.xlabel('Entrenamiento')\n",
    "plt.ylabel('Error')\n",
    "plt.title('Error de Entrenamiento')\n",
    "plt.show()\n",
    "\n",
    "# Evaluación de la precisión en el conjunto de prueba\n",
    "layer0 = X_test\n",
    "layer1 = sigmoid(np.dot(layer0, w0))\n",
    "layer2 = sigmoid(np.dot(layer1, w1))\n",
    "\n",
    "layer2_error = y_test - layer2\n",
    "\n",
    "error = np.mean(np.abs(layer2_error))\n",
    "accuracy = (1 - error) * 100\n",
    "\n",
    "print(\"Precisión del modelo en el conjunto de prueba:\", round(accuracy, 2), \"%\")"
   ]
  },
  {
   "cell_type": "markdown",
   "metadata": {},
   "source": [
    "Esta red neuronal se entrena para aprender patrones en los datos de iris y clasificar las muestras en las clases correctas. La visualización del error durante el entrenamiento proporciona una idea de cómo la red neuronal está aprendiendo a medida que ajusta sus pesos para reducir la discrepancia entre las predicciones y los valores reales. La precisión final del modelo se evalúa en el conjunto de prueba y representa qué tan bien generaliza la red neuronal a datos nuevos no vistos."
   ]
  }
 ],
 "metadata": {
  "kernelspec": {
   "display_name": "Python 3",
   "language": "python",
   "name": "python3"
  },
  "language_info": {
   "codemirror_mode": {
    "name": "ipython",
    "version": 3
   },
   "file_extension": ".py",
   "mimetype": "text/x-python",
   "name": "python",
   "nbconvert_exporter": "python",
   "pygments_lexer": "ipython3",
   "version": "3.11.0"
  }
 },
 "nbformat": 4,
 "nbformat_minor": 2
}
